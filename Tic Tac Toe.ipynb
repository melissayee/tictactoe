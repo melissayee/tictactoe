{
 "cells": [
  {
   "cell_type": "code",
   "execution_count": 1,
   "metadata": {},
   "outputs": [],
   "source": [
    "# Import Modules\n",
    "from IPython.display import clear_output\n",
    "import random"
   ]
  },
  {
   "cell_type": "code",
   "execution_count": 2,
   "metadata": {},
   "outputs": [],
   "source": [
    "# Function that displays the board given a list\n",
    "# Board positions will be numbered from top left to bottom right using 1 - 9\n",
    "def display_board(board):\n",
    "    print (\"\"\"\n",
    "         |     |    \n",
    "      {}  |  {}  |  {} \n",
    "    _____|_____|_____\n",
    "         |     |    \n",
    "      {}  |  {}  |  {} \n",
    "    _____|_____|_____\n",
    "         |     |    \n",
    "      {}  |  {}  |  {} \n",
    "         |     |\n",
    "    \"\"\".format(board[0],board[1],board[2],board[3],board[4],board[5],board[6],board[7],board[8]))"
   ]
  },
  {
   "cell_type": "code",
   "execution_count": 3,
   "metadata": {},
   "outputs": [],
   "source": [
    "# Function that allows the players to choose whether they are X or O\n",
    "def choose_marker():\n",
    "    valid_input = False\n",
    "    player1_name = input(\"Player 1: Please enter your name\")\n",
    "    clear_output() \n",
    "    player2_name = input(\"Player 2: Please enter your name\")\n",
    "    clear_output() \n",
    "    while valid_input == False:\n",
    "        player1 = input(\"{}: Please pick a marker 'X' or 'O'\".format(player1_name))\n",
    "    \n",
    "        if player1 == 'X':\n",
    "            player2 = 'O'\n",
    "            valid_input = True\n",
    "            clear_output() \n",
    "            print (\"{} is X, {} is O\".format(player1_name, player2_name))\n",
    "        elif player1 == 'O':\n",
    "            player2 = 'X'\n",
    "            valid_input = True\n",
    "            clear_output() \n",
    "            print (\"{} is O, {} is X\".format(player1_name, player2_name))\n",
    "        else:\n",
    "            clear_output()\n",
    "            print (\"You did not select a valid marker, please try again\")\n",
    "            \n",
    "    return {player1_name: player1,\n",
    "            player2_name: player2}"
   ]
  },
  {
   "cell_type": "code",
   "execution_count": 4,
   "metadata": {},
   "outputs": [],
   "source": [
    "# Function that places the marker on the board at a certain position\n",
    "def place_marker(marker, position, board):\n",
    "    board[position-1] = marker"
   ]
  },
  {
   "cell_type": "code",
   "execution_count": 5,
   "metadata": {},
   "outputs": [],
   "source": [
    "# Function that checks whether the game has been won\n",
    "def check_win(marker, board):\n",
    "    return ((board[0] == board[1] == board[2] == marker) or \n",
    "            (board[3] == board[4] == board[5] == marker) or\n",
    "            (board[6] == board[7] == board[8] == marker) or\n",
    "            (board[0] == board[3] == board[6] == marker) or\n",
    "            (board[1] == board[4] == board[7] == marker) or \n",
    "            (board[2] == board[5] == board[8] == marker) or\n",
    "            (board[0] == board[4] == board[8] == marker) or\n",
    "            (board[2] == board[4] == board[6] == marker))"
   ]
  },
  {
   "cell_type": "code",
   "execution_count": 6,
   "metadata": {},
   "outputs": [],
   "source": [
    "# Function that randomly decides who plays first\n",
    "def choose_first(player1, player2):\n",
    "    num = random.randint(0,100)\n",
    "    if num % 2 == 0:\n",
    "        first = player1\n",
    "        second = player2\n",
    "    else:\n",
    "        first = player2\n",
    "        second = player1\n",
    "        \n",
    "    print ('{} goes first'.format(first))\n",
    "    \n",
    "    return (first, second)"
   ]
  },
  {
   "cell_type": "code",
   "execution_count": 7,
   "metadata": {},
   "outputs": [],
   "source": [
    "# Function that checks whether the chosen position on the board is filled already\n",
    "def space_check(position, board):\n",
    "    return board[position-1] in ['X','O']"
   ]
  },
  {
   "cell_type": "code",
   "execution_count": 8,
   "metadata": {},
   "outputs": [],
   "source": [
    "# Checks whether the board is full of Xs and Os\n",
    "def full_board_check(board):\n",
    "    return len(set(board)) <= 2"
   ]
  },
  {
   "cell_type": "code",
   "execution_count": 9,
   "metadata": {},
   "outputs": [],
   "source": [
    "# Function that returns the players position on the board\n",
    "def player_choice(board):\n",
    "    valid_position = False\n",
    "    \n",
    "    while valid_position == False:\n",
    "        position = input(\"Please select a position, 1 - 9\")\n",
    "        \n",
    "        if position.isdigit() and int(position) in range(1,10): \n",
    "            if space_check(int(position), board):\n",
    "                clear_output()\n",
    "                print (\"That space is taken, please try again\")\n",
    "                display_board(board)\n",
    "            else:\n",
    "                int_position = int(position)\n",
    "                valid_position = True\n",
    "        else:\n",
    "            clear_output()\n",
    "            print(\"That is not a valid position, please try again\")\n",
    "            display_board(board)\n",
    "            \n",
    "    clear_output()\n",
    "\n",
    "    return int_position"
   ]
  },
  {
   "cell_type": "code",
   "execution_count": 10,
   "metadata": {},
   "outputs": [],
   "source": [
    "# Function that asks the user if they want to play the game again\n",
    "def replay():\n",
    "    valid_answer = False\n",
    "    \n",
    "    while valid_answer == False:\n",
    "        ask = input(\"Would you like to play again? Enter Yes or No\")\n",
    "        if ask.lower() in ['yes','no']:\n",
    "            valid_answer = True\n",
    "            clear_output()\n",
    "            return ask.lower() == 'yes'\n",
    "        else:\n",
    "            clear_output()\n",
    "            print(\"That is not a valid answer, please answer Yes or No\")\n",
    "    clear_output()"
   ]
  },
  {
   "cell_type": "code",
   "execution_count": 11,
   "metadata": {},
   "outputs": [],
   "source": [
    "# Function that asks the user if they want to reset the game (users and record)\n",
    "def reset():\n",
    "    valid_answer = False\n",
    "    \n",
    "    while valid_answer == False:\n",
    "        ask = input(\"Would you like to reset the players and record? Enter Yes or No\")\n",
    "        if ask.lower() in ['yes','no']:\n",
    "            valid_answer = True\n",
    "            clear_output()\n",
    "            return ask.lower() == 'yes'\n",
    "        else:\n",
    "            clear_output()\n",
    "            print(\"That is not a valid answer, please answer Yes or No\")\n",
    "    clear_output()"
   ]
  },
  {
   "cell_type": "code",
   "execution_count": 12,
   "metadata": {},
   "outputs": [],
   "source": [
    "def tic_tac_toe():\n",
    "    print('Welcome to Tic Tac Toe!')\n",
    "    first_game = True\n",
    "    \n",
    "    # Set up the players if it's the first time playing and reset the record\n",
    "    while first_game == True:\n",
    "        # Save the player and their associated marker\n",
    "        players = choose_marker()\n",
    "        \n",
    "        # Save wins\n",
    "        player_record = {list(players.keys())[0]: 0, list(players.keys())[1]: 0}\n",
    "        \n",
    "        new_game = True\n",
    "        \n",
    "        while new_game == True:\n",
    "            # Reset the board \n",
    "            board = ['1','2','3','4','5','6','7','8','9']\n",
    "\n",
    "            # Randomly selects who places their marker first\n",
    "            current_player, next_player = choose_first(list(players.keys())[0], list(players.keys())[1])\n",
    "\n",
    "            # Start the game\n",
    "            active_game = True\n",
    "\n",
    "            print('\\nCurrent Record')\n",
    "            print(f'{list(players.keys())[0]} wins: {player_record[list(players.keys())[0]]}')\n",
    "            print(f'{list(players.keys())[1]} wins: {player_record[list(players.keys())[1]]}\\n')\n",
    "        \n",
    "            while active_game == True:\n",
    "                # Display whose turn it is\n",
    "                print(f\"{current_player}'s Turn\")\n",
    "\n",
    "                # Check whether the board is full\n",
    "                display_board(board)\n",
    "\n",
    "                # Player selects the spot and the board is displayed with the marker in place\n",
    "                spot = player_choice(board)\n",
    "                place_marker(players[current_player], spot, board)\n",
    "\n",
    "                # Check whether the new placed marker was a winning move or if it made the board full\n",
    "                if check_win(players[current_player], board) or full_board_check(board):\n",
    "                    if check_win(players[current_player], board):\n",
    "                        print(f'{current_player} Wins!')\n",
    "\n",
    "                        # Add a win to the player's record\n",
    "                        player_record[current_player] += 1\n",
    "                    else:\n",
    "                        print(f'Tie Game!')\n",
    "                    \n",
    "                    display_board(board)                        \n",
    "                    # Ask if the players want to play again\n",
    "                    play_again = replay()\n",
    "                    active_game = False\n",
    "                    first_game = False\n",
    "                    new_game = False\n",
    "                    if play_again:\n",
    "                        # If the players want to play again, ask if they want to reset their record\n",
    "                        reset_game = reset()\n",
    "                        if reset_game:\n",
    "                            first_game = True\n",
    "                        else:\n",
    "                            new_game = True\n",
    "\n",
    "                    else:\n",
    "                        print('Final Record')\n",
    "                        print(f'{current_player} wins: {player_record[list(players.keys())[0]]}')\n",
    "                        print(f'{next_player} wins: {player_record[list(players.keys())[0]]} \\n')\n",
    "\n",
    "                        print('Thanks for playing!')\n",
    "\n",
    "                else:\n",
    "                    # Switch turns and start again\n",
    "                    temp = current_player\n",
    "                    current_player = next_player\n",
    "                    next_player = temp"
   ]
  },
  {
   "cell_type": "code",
   "execution_count": 13,
   "metadata": {},
   "outputs": [
    {
     "name": "stdout",
     "output_type": "stream",
     "text": [
      "Final Record\n",
      "Melissa wins: 2\n",
      "Amir wins: 2 \n",
      "\n",
      "Thanks for playing!\n"
     ]
    }
   ],
   "source": [
    "tic_tac_toe()"
   ]
  },
  {
   "cell_type": "code",
   "execution_count": null,
   "metadata": {},
   "outputs": [],
   "source": []
  }
 ],
 "metadata": {
  "kernelspec": {
   "display_name": "Python 3",
   "language": "python",
   "name": "python3"
  },
  "language_info": {
   "codemirror_mode": {
    "name": "ipython",
    "version": 3
   },
   "file_extension": ".py",
   "mimetype": "text/x-python",
   "name": "python",
   "nbconvert_exporter": "python",
   "pygments_lexer": "ipython3",
   "version": "3.7.6"
  }
 },
 "nbformat": 4,
 "nbformat_minor": 2
}
